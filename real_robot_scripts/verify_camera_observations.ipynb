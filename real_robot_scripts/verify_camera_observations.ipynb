{
 "cells": [
  {
   "cell_type": "code",
   "execution_count": null,
   "metadata": {},
   "outputs": [],
   "source": [
    "\"\"\"\n",
    "This is a script to verify the camera observations of the real robot. We assume that you are using deoxys_vision for capturing images. If you are using a different vision pipeline, please modify the code accordingly. \n",
    "\"\"\"\n",
    "\n",
    "import plotly.graph_objs as go\n",
    "\n",
    "from deoxys import config_root\n",
    "from deoxys.franka_interface import FrankaInterface\n",
    "from deoxys.utils import YamlConfig\n",
    "from deoxys.utils.input_utils import input2action\n",
    "from deoxys.utils.io_devices import SpaceMouse\n",
    "from deoxys.utils.log_utils import get_deoxys_example_logger\n",
    "\n",
    "from deoxys_vision.networking.camera_redis_interface import \\\n",
    "    CameraRedisSubInterface\n",
    "from deoxys_vision.utils.calibration_utils import load_default_extrinsics, load_default_intrinsics\n",
    "from deoxys_vision.utils.camera_utils import assert_camera_ref_convention, get_camera_info\n",
    "\n",
    "import init_path\n",
    "from vos_3d_algo.misc_utils import depth_to_rgb\n",
    "from vos_3d_algo.dataset_preprocessing.pcd_generation import scene_pcd_fn\n",
    "\n",
    "from real_robot_scripts.groot_img_utils import ImageProcessor\n",
    "from real_robot_scripts.real_robot_utils import RealRobotObsProcessor\n",
    "\n",
    "# Make sure that you've launched camera nodes somewhere else\n",
    "observation_cfg = YamlConfig(\"../real_robot_scripts/real_robot_observation_cfg_example.yml\").as_easydict()\n",
    "\n",
    "observation_cfg.cameras = []\n",
    "for camera_ref in observation_cfg.camera_refs:\n",
    "    assert_camera_ref_convention(camera_ref)\n",
    "    camera_info = get_camera_info(camera_ref)\n",
    "\n",
    "    observation_cfg.cameras.append(camera_info)\n",
    "\n",
    "obs_processor = RealRobotObsProcessor(observation_cfg,\n",
    "                                        processor_name=\"ImageProcessor\")\n",
    "obs_processor.load_intrinsic_matrix(resize=False)\n",
    "obs_processor.load_extrinsic_matrix()\n",
    "extrinsic_matrix = obs_processor.get_extrinsic_matrix(\"agentview\")\n",
    "intrinsic_matrix = obs_processor.get_intrinsic_matrix(\"agentview\")\n",
    "\n",
    "color_imgs, depth_imgs = obs_processor.get_original_imgs()\n",
    "print(color_imgs[0].shape)\n",
    "\n",
    "pcd_points, pcd_colors = scene_pcd_fn(\n",
    "    observation_cfg,\n",
    "    rgb_img_input=color_imgs[0],\n",
    "    depth_img_input=depth_imgs[0],\n",
    "    extrinsic_matrix=extrinsic_matrix,\n",
    "    intrinsic_matrix=intrinsic_matrix,\n",
    ")    \n",
    "\n",
    "print(pcd_points.shape)\n"
   ]
  },
  {
   "cell_type": "code",
   "execution_count": null,
   "metadata": {},
   "outputs": [],
   "source": [
    "import matplotlib.pyplot as plt\n",
    "import numpy as np\n",
    "plt.imshow(np.concatenate((color_imgs[0], depth_to_rgb(depth_imgs[0])), axis=1))"
   ]
  },
  {
   "cell_type": "code",
   "execution_count": null,
   "metadata": {},
   "outputs": [],
   "source": [
    "images = obs_processor.get_real_robot_img_obs()\n",
    "plt.imshow(images[\"agentview_rgb\"])"
   ]
  },
  {
   "cell_type": "code",
   "execution_count": null,
   "metadata": {},
   "outputs": [],
   "source": [
    "# visualize point clouds using plotly\n",
    "color_str = ['rgb('+str(r)+','+str(g)+','+str(b)+')' for r,g,b in pcd_colors]\n",
    "\n",
    "# Extract x, y, and z columns from the point cloud\n",
    "x_vals = pcd_points[:, 0]\n",
    "y_vals = pcd_points[:, 1]\n",
    "z_vals = pcd_points[:, 2]\n",
    "\n",
    "# Create the scatter3d plot\n",
    "rgbd_scatter = go.Scatter3d(\n",
    "    x=x_vals,\n",
    "    y=y_vals,\n",
    "    z=z_vals,\n",
    "    mode='markers',\n",
    "    marker=dict(size=3, color=color_str, opacity=0.8)\n",
    ")\n",
    "\n",
    "# Set the layout for the plot\n",
    "layout = go.Layout(\n",
    "    margin=dict(l=0, r=0, b=0, t=0)\n",
    ")\n",
    "\n",
    "fig = go.Figure(data=[rgbd_scatter], layout=layout)\n",
    "\n",
    "# Show the figure\n",
    "fig.show()"
   ]
  }
 ],
 "metadata": {
  "interpreter": {
   "hash": "27e0807650aa6fdfec6ac03c64c8f2ddc0c0707fb9befb8fe89930c8e4bb4e27"
  },
  "kernelspec": {
   "display_name": "Python 3.9.16 ('vos_3d_real')",
   "language": "python",
   "name": "python3"
  },
  "language_info": {
   "codemirror_mode": {
    "name": "ipython",
    "version": 3
   },
   "file_extension": ".py",
   "mimetype": "text/x-python",
   "name": "python",
   "nbconvert_exporter": "python",
   "pygments_lexer": "ipython3",
   "version": "3.9.16"
  },
  "orig_nbformat": 4
 },
 "nbformat": 4,
 "nbformat_minor": 2
}
